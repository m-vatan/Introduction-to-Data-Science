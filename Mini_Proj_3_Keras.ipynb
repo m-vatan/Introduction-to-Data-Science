{
 "cells": [
  {
   "cell_type": "markdown",
   "metadata": {},
   "source": [
    "## First neural network with keras"
   ]
  },
  {
   "cell_type": "code",
   "execution_count": 1,
   "metadata": {},
   "outputs": [],
   "source": [
    "import tensorflow as tf\n",
    "import keras\n",
    "from keras.models import Sequential\n",
    "from keras.layers import Dense\n",
    "from keras.datasets import boston_housing\n",
    "import numpy as np\n",
    "import pandas as pd\n",
    "import matplotlib.pyplot as plt"
   ]
  },
  {
   "cell_type": "markdown",
   "metadata": {},
   "source": [
    "### Get the dataset"
   ]
  },
  {
   "cell_type": "code",
   "execution_count": 2,
   "metadata": {},
   "outputs": [],
   "source": [
    "housing = boston_housing.load_data()"
   ]
  },
  {
   "cell_type": "markdown",
   "metadata": {},
   "source": [
    "#### Split it into test and train sets\n"
   ]
  },
  {
   "cell_type": "code",
   "execution_count": 3,
   "metadata": {},
   "outputs": [],
   "source": [
    "(X_train, Y_train), (X_test, Y_test) = housing"
   ]
  },
  {
   "cell_type": "code",
   "execution_count": 4,
   "metadata": {},
   "outputs": [
    {
     "name": "stdout",
     "output_type": "stream",
     "text": [
      "Training set shape = (404, 13)\n",
      "Testing set shape = (102, 13)\n"
     ]
    }
   ],
   "source": [
    "# Shuffle the training set\n",
    "order = np.argsort(np.random.random(Y_train.shape))\n",
    "X_train = X_train[order]\n",
    "Y_train = Y_train[order]\n",
    "print(\"Training set shape = {}\".format(X_train.shape))\n",
    "print(\"Testing set shape = {}\".format(X_test.shape))   "
   ]
  },
  {
   "cell_type": "code",
   "execution_count": 5,
   "metadata": {},
   "outputs": [],
   "source": [
    "#print(X_train[0])\n",
    "#print(Y_train[0:10])"
   ]
  },
  {
   "cell_type": "markdown",
   "metadata": {},
   "source": [
    "#### Data Cleaning"
   ]
  },
  {
   "cell_type": "code",
   "execution_count": 6,
   "metadata": {},
   "outputs": [
    {
     "data": {
      "text/html": [
       "<div>\n",
       "<style scoped>\n",
       "    .dataframe tbody tr th:only-of-type {\n",
       "        vertical-align: middle;\n",
       "    }\n",
       "\n",
       "    .dataframe tbody tr th {\n",
       "        vertical-align: top;\n",
       "    }\n",
       "\n",
       "    .dataframe thead th {\n",
       "        text-align: right;\n",
       "    }\n",
       "</style>\n",
       "<table border=\"1\" class=\"dataframe\">\n",
       "  <thead>\n",
       "    <tr style=\"text-align: right;\">\n",
       "      <th></th>\n",
       "      <th>CRIM</th>\n",
       "      <th>ZN</th>\n",
       "      <th>INDUS</th>\n",
       "      <th>CHAS</th>\n",
       "      <th>NOX</th>\n",
       "      <th>RM</th>\n",
       "      <th>AGE</th>\n",
       "      <th>DIS</th>\n",
       "      <th>RAD</th>\n",
       "      <th>TAX</th>\n",
       "      <th>PTRATIO</th>\n",
       "      <th>B</th>\n",
       "      <th>LSTAT</th>\n",
       "    </tr>\n",
       "  </thead>\n",
       "  <tbody>\n",
       "    <tr>\n",
       "      <th>0</th>\n",
       "      <td>14.42080</td>\n",
       "      <td>0.0</td>\n",
       "      <td>18.10</td>\n",
       "      <td>0.0</td>\n",
       "      <td>0.740</td>\n",
       "      <td>6.461</td>\n",
       "      <td>93.3</td>\n",
       "      <td>2.0026</td>\n",
       "      <td>24.0</td>\n",
       "      <td>666.0</td>\n",
       "      <td>20.2</td>\n",
       "      <td>27.49</td>\n",
       "      <td>18.05</td>\n",
       "    </tr>\n",
       "    <tr>\n",
       "      <th>1</th>\n",
       "      <td>0.03445</td>\n",
       "      <td>82.5</td>\n",
       "      <td>2.03</td>\n",
       "      <td>0.0</td>\n",
       "      <td>0.415</td>\n",
       "      <td>6.162</td>\n",
       "      <td>38.4</td>\n",
       "      <td>6.2700</td>\n",
       "      <td>2.0</td>\n",
       "      <td>348.0</td>\n",
       "      <td>14.7</td>\n",
       "      <td>393.77</td>\n",
       "      <td>7.43</td>\n",
       "    </tr>\n",
       "    <tr>\n",
       "      <th>2</th>\n",
       "      <td>0.06466</td>\n",
       "      <td>70.0</td>\n",
       "      <td>2.24</td>\n",
       "      <td>0.0</td>\n",
       "      <td>0.400</td>\n",
       "      <td>6.345</td>\n",
       "      <td>20.1</td>\n",
       "      <td>7.8278</td>\n",
       "      <td>5.0</td>\n",
       "      <td>358.0</td>\n",
       "      <td>14.8</td>\n",
       "      <td>368.24</td>\n",
       "      <td>4.97</td>\n",
       "    </tr>\n",
       "    <tr>\n",
       "      <th>3</th>\n",
       "      <td>0.02055</td>\n",
       "      <td>85.0</td>\n",
       "      <td>0.74</td>\n",
       "      <td>0.0</td>\n",
       "      <td>0.410</td>\n",
       "      <td>6.383</td>\n",
       "      <td>35.7</td>\n",
       "      <td>9.1876</td>\n",
       "      <td>2.0</td>\n",
       "      <td>313.0</td>\n",
       "      <td>17.3</td>\n",
       "      <td>396.90</td>\n",
       "      <td>5.77</td>\n",
       "    </tr>\n",
       "    <tr>\n",
       "      <th>4</th>\n",
       "      <td>0.17120</td>\n",
       "      <td>0.0</td>\n",
       "      <td>8.56</td>\n",
       "      <td>0.0</td>\n",
       "      <td>0.520</td>\n",
       "      <td>5.836</td>\n",
       "      <td>91.9</td>\n",
       "      <td>2.2110</td>\n",
       "      <td>5.0</td>\n",
       "      <td>384.0</td>\n",
       "      <td>20.9</td>\n",
       "      <td>395.67</td>\n",
       "      <td>18.66</td>\n",
       "    </tr>\n",
       "  </tbody>\n",
       "</table>\n",
       "</div>"
      ],
      "text/plain": [
       "       CRIM    ZN  INDUS  CHAS    NOX     RM   AGE     DIS   RAD    TAX  \\\n",
       "0  14.42080   0.0  18.10   0.0  0.740  6.461  93.3  2.0026  24.0  666.0   \n",
       "1   0.03445  82.5   2.03   0.0  0.415  6.162  38.4  6.2700   2.0  348.0   \n",
       "2   0.06466  70.0   2.24   0.0  0.400  6.345  20.1  7.8278   5.0  358.0   \n",
       "3   0.02055  85.0   0.74   0.0  0.410  6.383  35.7  9.1876   2.0  313.0   \n",
       "4   0.17120   0.0   8.56   0.0  0.520  5.836  91.9  2.2110   5.0  384.0   \n",
       "\n",
       "   PTRATIO       B  LSTAT  \n",
       "0     20.2   27.49  18.05  \n",
       "1     14.7  393.77   7.43  \n",
       "2     14.8  368.24   4.97  \n",
       "3     17.3  396.90   5.77  \n",
       "4     20.9  395.67  18.66  "
      ]
     },
     "execution_count": 6,
     "metadata": {},
     "output_type": "execute_result"
    }
   ],
   "source": [
    "# view the dataset in a more clear shape\n",
    "column_names = ['CRIM', 'ZN', 'INDUS',\n",
    "                'CHAS', 'NOX', 'RM',\n",
    "                'AGE', 'DIS', 'RAD',\n",
    "                'TAX', 'PTRATIO',\n",
    "                'B', 'LSTAT']\n",
    "df = pd.DataFrame(X_train, columns=column_names)\n",
    "df.head()"
   ]
  },
  {
   "cell_type": "code",
   "execution_count": 7,
   "metadata": {},
   "outputs": [
    {
     "data": {
      "text/plain": [
       "CRIM       0\n",
       "ZN         0\n",
       "INDUS      0\n",
       "CHAS       0\n",
       "NOX        0\n",
       "RM         0\n",
       "AGE        0\n",
       "DIS        0\n",
       "RAD        0\n",
       "TAX        0\n",
       "PTRATIO    0\n",
       "B          0\n",
       "LSTAT      0\n",
       "dtype: int64"
      ]
     },
     "execution_count": 7,
     "metadata": {},
     "output_type": "execute_result"
    }
   ],
   "source": [
    "# checking for missing values\n",
    "df.isna().sum()"
   ]
  },
  {
   "cell_type": "markdown",
   "metadata": {},
   "source": [
    "#### Data Normalization"
   ]
  },
  {
   "cell_type": "code",
   "execution_count": 8,
   "metadata": {},
   "outputs": [],
   "source": [
    "#Normalization\n",
    "#mean = X_train.mean(axis=0)\n",
    "#std = X_train.std(axis=0)\n",
    "#X_train_norm = (X_train - mean) / std\n",
    "#X_test_norm = (X_test - mean) / std\n",
    "#X_train_norm[0]"
   ]
  },
  {
   "cell_type": "markdown",
   "metadata": {},
   "source": [
    "#### Data Standrdization"
   ]
  },
  {
   "cell_type": "code",
   "execution_count": 1,
   "metadata": {},
   "outputs": [
    {
     "ename": "NameError",
     "evalue": "name 'X_train' is not defined",
     "output_type": "error",
     "traceback": [
      "\u001b[1;31m---------------------------------------------------------------------------\u001b[0m",
      "\u001b[1;31mNameError\u001b[0m                                 Traceback (most recent call last)",
      "\u001b[1;32m<ipython-input-1-5b4475a88a15>\u001b[0m in \u001b[0;36m<module>\u001b[1;34m\u001b[0m\n\u001b[0;32m      3\u001b[0m \u001b[1;31m# fit the scaler on training set\u001b[0m\u001b[1;33m\u001b[0m\u001b[1;33m\u001b[0m\u001b[1;33m\u001b[0m\u001b[0m\n\u001b[0;32m      4\u001b[0m \u001b[1;31m# transform method to scale test and training sets\u001b[0m\u001b[1;33m\u001b[0m\u001b[1;33m\u001b[0m\u001b[1;33m\u001b[0m\u001b[0m\n\u001b[1;32m----> 5\u001b[1;33m \u001b[0mX_train_scaled\u001b[0m \u001b[1;33m=\u001b[0m \u001b[0mscaler\u001b[0m\u001b[1;33m.\u001b[0m\u001b[0mfit_transform\u001b[0m\u001b[1;33m(\u001b[0m\u001b[0mX_train\u001b[0m\u001b[1;33m)\u001b[0m\u001b[1;33m\u001b[0m\u001b[1;33m\u001b[0m\u001b[0m\n\u001b[0m\u001b[0;32m      6\u001b[0m \u001b[0mX_test_scaled\u001b[0m \u001b[1;33m=\u001b[0m \u001b[0mscaler\u001b[0m\u001b[1;33m.\u001b[0m\u001b[0mfit_transform\u001b[0m\u001b[1;33m(\u001b[0m\u001b[0mX_test\u001b[0m\u001b[1;33m)\u001b[0m\u001b[1;33m\u001b[0m\u001b[1;33m\u001b[0m\u001b[0m\n\u001b[0;32m      7\u001b[0m \u001b[0mX_train_scaled\u001b[0m\u001b[1;33m[\u001b[0m\u001b[1;36m0\u001b[0m\u001b[1;33m]\u001b[0m\u001b[1;33m\u001b[0m\u001b[1;33m\u001b[0m\u001b[0m\n",
      "\u001b[1;31mNameError\u001b[0m: name 'X_train' is not defined"
     ]
    }
   ],
   "source": [
    "from sklearn.preprocessing import StandardScaler\n",
    "scaler = StandardScaler()\n",
    "# fit the scaler on training set\n",
    "scaler.fit(X_train)\n",
    "# transform method to scale test and training sets\n",
    "X_train_scaled = scaler.transform(X_train)\n",
    "X_test_scaled = scaler.transform(X_test)\n",
    "X_train_scaled[0]"
   ]
  },
  {
   "cell_type": "markdown",
   "metadata": {},
   "source": [
    "# Keras Model "
   ]
  },
  {
   "cell_type": "code",
   "execution_count": 26,
   "metadata": {},
   "outputs": [],
   "source": [
    "#Define Keras Model\n",
    "model = Sequential()\n",
    "model.add(Dense(128, activation=tf.nn.relu, input_shape=[X_train.shape[1]]))\n",
    "model.add(Dense(64, activation=tf.nn.relu))\n",
    "model.add(Dense(32, activation=tf.nn.relu))\n",
    "\n",
    "# output layer\n",
    "model.add(Dense(1))\n"
   ]
  },
  {
   "cell_type": "code",
   "execution_count": 27,
   "metadata": {},
   "outputs": [
    {
     "name": "stdout",
     "output_type": "stream",
     "text": [
      "Model: \"sequential_2\"\n",
      "_________________________________________________________________\n",
      "Layer (type)                 Output Shape              Param #   \n",
      "=================================================================\n",
      "dense_6 (Dense)              (None, 128)               1792      \n",
      "_________________________________________________________________\n",
      "dense_7 (Dense)              (None, 64)                8256      \n",
      "_________________________________________________________________\n",
      "dense_8 (Dense)              (None, 32)                2080      \n",
      "_________________________________________________________________\n",
      "dense_9 (Dense)              (None, 1)                 33        \n",
      "=================================================================\n",
      "Total params: 12,161\n",
      "Trainable params: 12,161\n",
      "Non-trainable params: 0\n",
      "_________________________________________________________________\n"
     ]
    }
   ],
   "source": [
    "#### Compile the keras model\n",
    "model.compile(loss='mean_squared_error', optimizer='adam', metrics=['mae'])\n",
    "#model.compile(optimizer= tf.compat.v1.train.RMSPropOptimizer(0.001), loss='mse', metrics=['mae'])\n",
    "model.summary()"
   ]
  },
  {
   "cell_type": "code",
   "execution_count": 28,
   "metadata": {},
   "outputs": [
    {
     "name": "stdout",
     "output_type": "stream",
     "text": [
      "Epoch 1/200\n",
      "37/37 [==============================] - 0s 9ms/step - loss: 484.1569 - mae: 19.9282 - val_loss: 374.2461 - val_mae: 16.8349\n",
      "Epoch 2/200\n",
      "37/37 [==============================] - 0s 3ms/step - loss: 144.0140 - mae: 9.2724 - val_loss: 32.9217 - val_mae: 4.9385\n",
      "Epoch 3/200\n",
      "37/37 [==============================] - 0s 2ms/step - loss: 32.4253 - mae: 4.0824 - val_loss: 21.6256 - val_mae: 3.9845\n",
      "Epoch 4/200\n",
      "37/37 [==============================] - 0s 3ms/step - loss: 21.5484 - mae: 3.2246 - val_loss: 20.3836 - val_mae: 3.6508\n",
      "Epoch 5/200\n",
      "37/37 [==============================] - 0s 3ms/step - loss: 17.7357 - mae: 2.9293 - val_loss: 21.0976 - val_mae: 3.6048\n",
      "Epoch 6/200\n",
      "37/37 [==============================] - 0s 3ms/step - loss: 15.0761 - mae: 2.7258 - val_loss: 19.6645 - val_mae: 3.6316\n",
      "Epoch 7/200\n",
      "37/37 [==============================] - 0s 3ms/step - loss: 13.6632 - mae: 2.5828 - val_loss: 18.5833 - val_mae: 3.4560\n",
      "Epoch 8/200\n",
      "37/37 [==============================] - 0s 3ms/step - loss: 12.3541 - mae: 2.4701 - val_loss: 16.8630 - val_mae: 3.2819\n",
      "Epoch 9/200\n",
      "37/37 [==============================] - 0s 3ms/step - loss: 11.6930 - mae: 2.4482 - val_loss: 16.9384 - val_mae: 3.2300\n",
      "Epoch 10/200\n",
      "37/37 [==============================] - 0s 3ms/step - loss: 10.8003 - mae: 2.3103 - val_loss: 15.3311 - val_mae: 3.0747\n",
      "Epoch 11/200\n",
      "37/37 [==============================] - 0s 3ms/step - loss: 10.4167 - mae: 2.3239 - val_loss: 13.8284 - val_mae: 2.9892\n",
      "Epoch 12/200\n",
      "37/37 [==============================] - 0s 3ms/step - loss: 10.2298 - mae: 2.2996 - val_loss: 15.3134 - val_mae: 3.1067\n",
      "Epoch 13/200\n",
      "37/37 [==============================] - 0s 3ms/step - loss: 9.8373 - mae: 2.2217 - val_loss: 14.2744 - val_mae: 2.8954\n",
      "Epoch 14/200\n",
      "37/37 [==============================] - 0s 3ms/step - loss: 9.6414 - mae: 2.2453 - val_loss: 14.9267 - val_mae: 2.9833\n",
      "Epoch 15/200\n",
      "37/37 [==============================] - 0s 3ms/step - loss: 9.4288 - mae: 2.2089 - val_loss: 14.5157 - val_mae: 2.9960\n",
      "Epoch 16/200\n",
      "37/37 [==============================] - 0s 3ms/step - loss: 9.7648 - mae: 2.2289 - val_loss: 15.5483 - val_mae: 3.2643\n",
      "Epoch 17/200\n",
      "37/37 [==============================] - 0s 3ms/step - loss: 8.8667 - mae: 2.1638 - val_loss: 15.0406 - val_mae: 2.9066\n",
      "Epoch 18/200\n",
      "37/37 [==============================] - 0s 3ms/step - loss: 8.8198 - mae: 2.1166 - val_loss: 13.7520 - val_mae: 2.9156\n",
      "Epoch 19/200\n",
      "37/37 [==============================] - 0s 3ms/step - loss: 8.9556 - mae: 2.1593 - val_loss: 14.3854 - val_mae: 3.0302\n",
      "Epoch 20/200\n",
      "37/37 [==============================] - 0s 3ms/step - loss: 8.3956 - mae: 2.0628 - val_loss: 14.6960 - val_mae: 3.0582\n",
      "Epoch 21/200\n",
      "37/37 [==============================] - 0s 3ms/step - loss: 8.3966 - mae: 2.1105 - val_loss: 15.3862 - val_mae: 3.0667\n",
      "Epoch 22/200\n",
      "37/37 [==============================] - 0s 3ms/step - loss: 8.3236 - mae: 2.0872 - val_loss: 12.8048 - val_mae: 2.8632\n",
      "Epoch 23/200\n",
      "37/37 [==============================] - 0s 3ms/step - loss: 8.1453 - mae: 2.0788 - val_loss: 15.0909 - val_mae: 3.0460\n",
      "Epoch 24/200\n",
      "37/37 [==============================] - 0s 3ms/step - loss: 8.1320 - mae: 2.0091 - val_loss: 14.5588 - val_mae: 2.9902\n",
      "Epoch 25/200\n",
      "37/37 [==============================] - 0s 3ms/step - loss: 7.7095 - mae: 1.9609 - val_loss: 12.8346 - val_mae: 2.8077\n",
      "Epoch 26/200\n",
      "37/37 [==============================] - 0s 3ms/step - loss: 7.6913 - mae: 1.9769 - val_loss: 13.1703 - val_mae: 2.8607\n",
      "Epoch 27/200\n",
      "37/37 [==============================] - 0s 3ms/step - loss: 7.5118 - mae: 1.9881 - val_loss: 13.6473 - val_mae: 2.9772\n",
      "Epoch 28/200\n",
      "37/37 [==============================] - 0s 3ms/step - loss: 7.3590 - mae: 1.9614 - val_loss: 12.7077 - val_mae: 2.8334\n",
      "Epoch 29/200\n",
      "37/37 [==============================] - 0s 3ms/step - loss: 7.6835 - mae: 2.0272 - val_loss: 11.3741 - val_mae: 2.6177\n",
      "Epoch 30/200\n",
      "37/37 [==============================] - 0s 4ms/step - loss: 7.0702 - mae: 1.9051 - val_loss: 13.0939 - val_mae: 2.8417\n",
      "Epoch 31/200\n",
      "37/37 [==============================] - 0s 4ms/step - loss: 7.0239 - mae: 1.8721 - val_loss: 12.1110 - val_mae: 2.7199\n",
      "Epoch 32/200\n",
      "37/37 [==============================] - 0s 4ms/step - loss: 6.8415 - mae: 1.8346 - val_loss: 12.0829 - val_mae: 2.6510\n",
      "Epoch 33/200\n",
      "37/37 [==============================] - 0s 3ms/step - loss: 6.8593 - mae: 1.9545 - val_loss: 14.1830 - val_mae: 2.9659\n",
      "Epoch 34/200\n",
      "37/37 [==============================] - 0s 3ms/step - loss: 6.5272 - mae: 1.8175 - val_loss: 12.2594 - val_mae: 2.7424\n",
      "Epoch 35/200\n",
      "37/37 [==============================] - 0s 4ms/step - loss: 6.4115 - mae: 1.8291 - val_loss: 12.8325 - val_mae: 2.8154\n",
      "Epoch 36/200\n",
      "37/37 [==============================] - 0s 4ms/step - loss: 6.1860 - mae: 1.7779 - val_loss: 12.8237 - val_mae: 2.8102\n",
      "Epoch 37/200\n",
      "37/37 [==============================] - 0s 3ms/step - loss: 6.1863 - mae: 1.7812 - val_loss: 12.3799 - val_mae: 2.7786\n",
      "Epoch 38/200\n",
      "37/37 [==============================] - 0s 4ms/step - loss: 6.1433 - mae: 1.7791 - val_loss: 12.6187 - val_mae: 2.7170\n",
      "Epoch 39/200\n",
      "37/37 [==============================] - 0s 4ms/step - loss: 6.1960 - mae: 1.7860 - val_loss: 12.6044 - val_mae: 2.7148\n",
      "Epoch 40/200\n",
      "37/37 [==============================] - 0s 3ms/step - loss: 6.0252 - mae: 1.8046 - val_loss: 12.7997 - val_mae: 2.7424\n",
      "Epoch 41/200\n",
      "37/37 [==============================] - 0s 3ms/step - loss: 5.8925 - mae: 1.7779 - val_loss: 12.6846 - val_mae: 2.8187\n",
      "Epoch 42/200\n",
      "37/37 [==============================] - 0s 4ms/step - loss: 5.8506 - mae: 1.7237 - val_loss: 11.8201 - val_mae: 2.5609\n",
      "Epoch 43/200\n",
      "37/37 [==============================] - 0s 3ms/step - loss: 5.5218 - mae: 1.6536 - val_loss: 11.7865 - val_mae: 2.6577\n",
      "Epoch 44/200\n",
      "37/37 [==============================] - 0s 4ms/step - loss: 5.8285 - mae: 1.7199 - val_loss: 11.5072 - val_mae: 2.5362\n",
      "Epoch 45/200\n",
      "37/37 [==============================] - 0s 4ms/step - loss: 5.5177 - mae: 1.6924 - val_loss: 13.5995 - val_mae: 2.8356\n",
      "Epoch 46/200\n",
      "37/37 [==============================] - 0s 3ms/step - loss: 4.9657 - mae: 1.5919 - val_loss: 10.8142 - val_mae: 2.4763\n",
      "Epoch 47/200\n",
      "37/37 [==============================] - 0s 4ms/step - loss: 5.2931 - mae: 1.7428 - val_loss: 12.6785 - val_mae: 2.7295\n",
      "Epoch 48/200\n",
      "37/37 [==============================] - 0s 4ms/step - loss: 4.9272 - mae: 1.5795 - val_loss: 12.6624 - val_mae: 2.7061\n",
      "Epoch 49/200\n",
      "37/37 [==============================] - 0s 3ms/step - loss: 5.3940 - mae: 1.6951 - val_loss: 13.9681 - val_mae: 2.8149\n",
      "Epoch 50/200\n",
      "37/37 [==============================] - 0s 4ms/step - loss: 4.8772 - mae: 1.6160 - val_loss: 13.3657 - val_mae: 2.8343\n",
      "Epoch 51/200\n",
      "37/37 [==============================] - 0s 3ms/step - loss: 4.8060 - mae: 1.6250 - val_loss: 12.6176 - val_mae: 2.6837\n",
      "Epoch 52/200\n",
      "37/37 [==============================] - 0s 3ms/step - loss: 4.8294 - mae: 1.6185 - val_loss: 11.3312 - val_mae: 2.5020\n",
      "Epoch 53/200\n",
      "37/37 [==============================] - 0s 4ms/step - loss: 4.6028 - mae: 1.5157 - val_loss: 12.0514 - val_mae: 2.5870\n",
      "Epoch 54/200\n",
      "37/37 [==============================] - 0s 3ms/step - loss: 4.7895 - mae: 1.5914 - val_loss: 10.5611 - val_mae: 2.4504\n",
      "Epoch 55/200\n",
      "37/37 [==============================] - 0s 3ms/step - loss: 3.9701 - mae: 1.4453 - val_loss: 11.3925 - val_mae: 2.5020\n",
      "Epoch 56/200\n",
      "37/37 [==============================] - 0s 3ms/step - loss: 4.3085 - mae: 1.5099 - val_loss: 10.4862 - val_mae: 2.3493\n",
      "Epoch 57/200\n",
      "37/37 [==============================] - 0s 3ms/step - loss: 4.7246 - mae: 1.6008 - val_loss: 11.2352 - val_mae: 2.3825\n",
      "Epoch 58/200\n",
      "37/37 [==============================] - 0s 3ms/step - loss: 4.7312 - mae: 1.6344 - val_loss: 12.4790 - val_mae: 2.6378\n",
      "Epoch 59/200\n",
      "37/37 [==============================] - 0s 4ms/step - loss: 3.8020 - mae: 1.4121 - val_loss: 11.9386 - val_mae: 2.5735\n",
      "Epoch 60/200\n",
      "37/37 [==============================] - 0s 4ms/step - loss: 3.9392 - mae: 1.4770 - val_loss: 12.5653 - val_mae: 2.6091\n",
      "Epoch 61/200\n",
      "37/37 [==============================] - 0s 4ms/step - loss: 3.8636 - mae: 1.4278 - val_loss: 11.7930 - val_mae: 2.5246\n",
      "Epoch 62/200\n",
      "37/37 [==============================] - 0s 4ms/step - loss: 3.9555 - mae: 1.4448 - val_loss: 11.4572 - val_mae: 2.4976\n",
      "Epoch 63/200\n",
      "37/37 [==============================] - 0s 4ms/step - loss: 3.6159 - mae: 1.3909 - val_loss: 11.3716 - val_mae: 2.4921\n",
      "Epoch 64/200\n",
      "37/37 [==============================] - 0s 3ms/step - loss: 3.5883 - mae: 1.4265 - val_loss: 12.0329 - val_mae: 2.6081\n",
      "Epoch 65/200\n",
      "37/37 [==============================] - 0s 3ms/step - loss: 4.0783 - mae: 1.4830 - val_loss: 16.6486 - val_mae: 3.0199\n",
      "Epoch 66/200\n",
      "37/37 [==============================] - 0s 4ms/step - loss: 3.5362 - mae: 1.3728 - val_loss: 11.0277 - val_mae: 2.4263\n",
      "Epoch 67/200\n",
      "37/37 [==============================] - 0s 3ms/step - loss: 3.2783 - mae: 1.3635 - val_loss: 11.3460 - val_mae: 2.4838\n",
      "Epoch 68/200\n",
      "37/37 [==============================] - 0s 3ms/step - loss: 3.6143 - mae: 1.4151 - val_loss: 11.6645 - val_mae: 2.5155\n",
      "Epoch 69/200\n",
      "37/37 [==============================] - 0s 3ms/step - loss: 3.8234 - mae: 1.4420 - val_loss: 10.5308 - val_mae: 2.3693\n",
      "Epoch 70/200\n",
      "37/37 [==============================] - 0s 3ms/step - loss: 3.4540 - mae: 1.4163 - val_loss: 11.1865 - val_mae: 2.5206\n",
      "Epoch 71/200\n",
      "37/37 [==============================] - 0s 4ms/step - loss: 3.1899 - mae: 1.3442 - val_loss: 12.2892 - val_mae: 2.5884\n",
      "Epoch 72/200\n",
      "37/37 [==============================] - 0s 3ms/step - loss: 3.0584 - mae: 1.2911 - val_loss: 12.6490 - val_mae: 2.6496\n",
      "Epoch 73/200\n",
      "37/37 [==============================] - 0s 3ms/step - loss: 3.0255 - mae: 1.2911 - val_loss: 13.4597 - val_mae: 2.6929\n",
      "Epoch 74/200\n",
      "37/37 [==============================] - 0s 3ms/step - loss: 3.0875 - mae: 1.2846 - val_loss: 15.8024 - val_mae: 3.0168\n",
      "Epoch 75/200\n",
      "37/37 [==============================] - 0s 3ms/step - loss: 2.8852 - mae: 1.2727 - val_loss: 12.9042 - val_mae: 2.5686\n",
      "Epoch 76/200\n",
      "37/37 [==============================] - 0s 4ms/step - loss: 3.0063 - mae: 1.2958 - val_loss: 12.0901 - val_mae: 2.5566\n",
      "Epoch 77/200\n",
      "37/37 [==============================] - 0s 3ms/step - loss: 2.7630 - mae: 1.2167 - val_loss: 11.1223 - val_mae: 2.4419\n",
      "Epoch 78/200\n",
      "37/37 [==============================] - 0s 5ms/step - loss: 2.9590 - mae: 1.2695 - val_loss: 11.8633 - val_mae: 2.5412\n",
      "Epoch 79/200\n",
      "37/37 [==============================] - 0s 3ms/step - loss: 2.8895 - mae: 1.2569 - val_loss: 12.6449 - val_mae: 2.5067\n",
      "Epoch 80/200\n",
      "37/37 [==============================] - 0s 3ms/step - loss: 3.0790 - mae: 1.3117 - val_loss: 10.2497 - val_mae: 2.2729\n",
      "Epoch 81/200\n",
      "37/37 [==============================] - 0s 3ms/step - loss: 3.0349 - mae: 1.2871 - val_loss: 10.6311 - val_mae: 2.3788\n",
      "Epoch 82/200\n",
      "37/37 [==============================] - 0s 3ms/step - loss: 2.5976 - mae: 1.2061 - val_loss: 14.6533 - val_mae: 2.8560\n",
      "Epoch 83/200\n",
      "37/37 [==============================] - 0s 3ms/step - loss: 2.8966 - mae: 1.3007 - val_loss: 11.6517 - val_mae: 2.4869\n",
      "Epoch 84/200\n",
      "37/37 [==============================] - 0s 4ms/step - loss: 3.0142 - mae: 1.2955 - val_loss: 11.9670 - val_mae: 2.5771\n",
      "Epoch 85/200\n",
      "37/37 [==============================] - 0s 5ms/step - loss: 2.5675 - mae: 1.1840 - val_loss: 13.0878 - val_mae: 2.6615\n",
      "Epoch 86/200\n",
      "37/37 [==============================] - 0s 5ms/step - loss: 2.7730 - mae: 1.2225 - val_loss: 12.3115 - val_mae: 2.4540\n",
      "Epoch 87/200\n",
      "37/37 [==============================] - 0s 4ms/step - loss: 2.6157 - mae: 1.2062 - val_loss: 10.4899 - val_mae: 2.4194\n",
      "Epoch 88/200\n",
      "37/37 [==============================] - 0s 3ms/step - loss: 2.6124 - mae: 1.2181 - val_loss: 13.5314 - val_mae: 2.7123\n",
      "Epoch 89/200\n",
      "37/37 [==============================] - 0s 3ms/step - loss: 2.6253 - mae: 1.2326 - val_loss: 13.5229 - val_mae: 2.7788\n",
      "Epoch 90/200\n",
      "37/37 [==============================] - 0s 3ms/step - loss: 2.9201 - mae: 1.3035 - val_loss: 11.7350 - val_mae: 2.4929\n",
      "Epoch 91/200\n",
      "37/37 [==============================] - 0s 3ms/step - loss: 2.7562 - mae: 1.2293 - val_loss: 11.0201 - val_mae: 2.3818\n",
      "Epoch 92/200\n",
      "37/37 [==============================] - 0s 3ms/step - loss: 2.3432 - mae: 1.1363 - val_loss: 11.5150 - val_mae: 2.3600\n",
      "Epoch 93/200\n",
      "37/37 [==============================] - 0s 3ms/step - loss: 2.2356 - mae: 1.0878 - val_loss: 14.5358 - val_mae: 2.8474\n",
      "Epoch 94/200\n",
      "37/37 [==============================] - 0s 4ms/step - loss: 2.3682 - mae: 1.1343 - val_loss: 11.3733 - val_mae: 2.4608\n",
      "Epoch 95/200\n",
      "37/37 [==============================] - 0s 4ms/step - loss: 2.3132 - mae: 1.1463 - val_loss: 11.5932 - val_mae: 2.5245\n",
      "Epoch 96/200\n",
      "37/37 [==============================] - 0s 4ms/step - loss: 2.7152 - mae: 1.2166 - val_loss: 16.3618 - val_mae: 2.9022\n",
      "Epoch 97/200\n",
      "37/37 [==============================] - 0s 4ms/step - loss: 2.2262 - mae: 1.1482 - val_loss: 11.1211 - val_mae: 2.4770\n",
      "Epoch 98/200\n",
      "37/37 [==============================] - 0s 4ms/step - loss: 1.9624 - mae: 1.0474 - val_loss: 13.3814 - val_mae: 2.6403\n",
      "Epoch 99/200\n",
      "37/37 [==============================] - 0s 3ms/step - loss: 2.1233 - mae: 1.0829 - val_loss: 12.3343 - val_mae: 2.4653\n",
      "Epoch 100/200\n",
      "37/37 [==============================] - 0s 4ms/step - loss: 2.3029 - mae: 1.1248 - val_loss: 11.3350 - val_mae: 2.4541\n",
      "Epoch 101/200\n",
      "37/37 [==============================] - 0s 4ms/step - loss: 2.2553 - mae: 1.1100 - val_loss: 15.6121 - val_mae: 2.9525\n",
      "Epoch 102/200\n",
      "37/37 [==============================] - 0s 3ms/step - loss: 2.2499 - mae: 1.1196 - val_loss: 12.3517 - val_mae: 2.5607\n",
      "Epoch 103/200\n",
      "37/37 [==============================] - 0s 3ms/step - loss: 2.1177 - mae: 1.0961 - val_loss: 12.7346 - val_mae: 2.5444\n",
      "Epoch 104/200\n",
      "37/37 [==============================] - 0s 3ms/step - loss: 2.2266 - mae: 1.0963 - val_loss: 11.8568 - val_mae: 2.4511\n",
      "Epoch 105/200\n",
      "37/37 [==============================] - 0s 3ms/step - loss: 2.7448 - mae: 1.1835 - val_loss: 11.2773 - val_mae: 2.3939\n",
      "Epoch 106/200\n",
      "37/37 [==============================] - 0s 3ms/step - loss: 2.0240 - mae: 1.0391 - val_loss: 12.3358 - val_mae: 2.5438\n",
      "Epoch 107/200\n",
      "37/37 [==============================] - 0s 3ms/step - loss: 2.1423 - mae: 1.0497 - val_loss: 15.1014 - val_mae: 2.9580\n",
      "Epoch 108/200\n",
      "37/37 [==============================] - 0s 3ms/step - loss: 2.2349 - mae: 1.1029 - val_loss: 12.3655 - val_mae: 2.5022\n",
      "Epoch 109/200\n",
      "37/37 [==============================] - 0s 3ms/step - loss: 2.2917 - mae: 1.1546 - val_loss: 11.5548 - val_mae: 2.3923\n",
      "Epoch 110/200\n",
      "37/37 [==============================] - 0s 3ms/step - loss: 2.0299 - mae: 1.0562 - val_loss: 12.7435 - val_mae: 2.5894\n",
      "Epoch 111/200\n",
      "37/37 [==============================] - 0s 3ms/step - loss: 1.8903 - mae: 1.0114 - val_loss: 12.1477 - val_mae: 2.4978\n",
      "Epoch 112/200\n",
      "37/37 [==============================] - 0s 3ms/step - loss: 1.9347 - mae: 1.0302 - val_loss: 12.1558 - val_mae: 2.4877\n",
      "Epoch 113/200\n",
      "37/37 [==============================] - 0s 3ms/step - loss: 1.8074 - mae: 1.0005 - val_loss: 13.6331 - val_mae: 2.7391\n",
      "Epoch 114/200\n",
      "37/37 [==============================] - 0s 2ms/step - loss: 1.8924 - mae: 1.0135 - val_loss: 11.7198 - val_mae: 2.4094\n",
      "Epoch 115/200\n",
      "37/37 [==============================] - 0s 3ms/step - loss: 1.6476 - mae: 0.9576 - val_loss: 12.5381 - val_mae: 2.5202\n",
      "Epoch 116/200\n",
      "37/37 [==============================] - 0s 3ms/step - loss: 1.9043 - mae: 1.0426 - val_loss: 12.0031 - val_mae: 2.5500\n",
      "Epoch 117/200\n",
      "37/37 [==============================] - 0s 4ms/step - loss: 1.9043 - mae: 1.0393 - val_loss: 11.5726 - val_mae: 2.4866\n",
      "Epoch 118/200\n",
      "37/37 [==============================] - 0s 3ms/step - loss: 1.6828 - mae: 0.9766 - val_loss: 13.7188 - val_mae: 2.5931\n",
      "Epoch 119/200\n",
      "37/37 [==============================] - 0s 3ms/step - loss: 1.9402 - mae: 1.0337 - val_loss: 11.1012 - val_mae: 2.4102\n",
      "Epoch 120/200\n",
      "37/37 [==============================] - 0s 3ms/step - loss: 1.9872 - mae: 1.0723 - val_loss: 14.1501 - val_mae: 2.6980\n",
      "Epoch 121/200\n",
      "37/37 [==============================] - 0s 3ms/step - loss: 1.6339 - mae: 0.9661 - val_loss: 12.7663 - val_mae: 2.5545\n",
      "Epoch 122/200\n",
      "37/37 [==============================] - 0s 4ms/step - loss: 1.7609 - mae: 0.9816 - val_loss: 13.4581 - val_mae: 2.5977\n",
      "Epoch 123/200\n"
     ]
    },
    {
     "name": "stdout",
     "output_type": "stream",
     "text": [
      "37/37 [==============================] - 0s 4ms/step - loss: 1.7024 - mae: 0.9619 - val_loss: 12.0314 - val_mae: 2.4029\n",
      "Epoch 124/200\n",
      "37/37 [==============================] - 0s 4ms/step - loss: 1.6635 - mae: 0.9599 - val_loss: 13.5009 - val_mae: 2.6672\n",
      "Epoch 125/200\n",
      "37/37 [==============================] - 0s 3ms/step - loss: 1.5264 - mae: 0.9123 - val_loss: 13.0531 - val_mae: 2.5453\n",
      "Epoch 126/200\n",
      "37/37 [==============================] - 0s 3ms/step - loss: 1.6141 - mae: 0.9440 - val_loss: 13.3048 - val_mae: 2.6152\n",
      "Epoch 127/200\n",
      "37/37 [==============================] - 0s 3ms/step - loss: 1.6317 - mae: 0.9377 - val_loss: 16.4030 - val_mae: 3.0998\n",
      "Epoch 128/200\n",
      "37/37 [==============================] - 0s 3ms/step - loss: 1.9064 - mae: 1.0700 - val_loss: 11.9973 - val_mae: 2.4550\n",
      "Epoch 129/200\n",
      "37/37 [==============================] - 0s 3ms/step - loss: 1.6744 - mae: 0.9536 - val_loss: 13.1016 - val_mae: 2.5503\n",
      "Epoch 130/200\n",
      "37/37 [==============================] - 0s 4ms/step - loss: 1.5267 - mae: 0.8923 - val_loss: 12.0905 - val_mae: 2.4819\n",
      "Epoch 131/200\n",
      "37/37 [==============================] - 0s 3ms/step - loss: 1.4849 - mae: 0.9078 - val_loss: 13.8123 - val_mae: 2.6085\n",
      "Epoch 132/200\n",
      "37/37 [==============================] - 0s 4ms/step - loss: 1.8667 - mae: 1.0250 - val_loss: 13.4304 - val_mae: 2.5383\n",
      "Epoch 133/200\n",
      "37/37 [==============================] - 0s 4ms/step - loss: 2.2322 - mae: 1.1284 - val_loss: 11.6726 - val_mae: 2.4659\n",
      "Epoch 134/200\n",
      "37/37 [==============================] - 0s 3ms/step - loss: 1.6404 - mae: 0.9712 - val_loss: 13.2510 - val_mae: 2.5493\n",
      "Epoch 135/200\n",
      "37/37 [==============================] - 0s 3ms/step - loss: 1.5617 - mae: 0.9261 - val_loss: 14.4335 - val_mae: 2.8509\n",
      "Epoch 136/200\n",
      "37/37 [==============================] - 0s 3ms/step - loss: 2.0289 - mae: 1.1406 - val_loss: 12.5370 - val_mae: 2.5132\n",
      "Epoch 137/200\n",
      "37/37 [==============================] - 0s 3ms/step - loss: 1.4939 - mae: 0.9054 - val_loss: 16.7214 - val_mae: 2.9124\n",
      "Epoch 138/200\n",
      "37/37 [==============================] - 0s 3ms/step - loss: 2.2086 - mae: 1.1297 - val_loss: 12.9629 - val_mae: 2.5966\n",
      "Epoch 139/200\n",
      "37/37 [==============================] - 0s 3ms/step - loss: 1.5979 - mae: 0.9090 - val_loss: 11.9513 - val_mae: 2.4672\n",
      "Epoch 140/200\n",
      "37/37 [==============================] - 0s 3ms/step - loss: 1.6118 - mae: 0.9596 - val_loss: 13.7353 - val_mae: 2.6607\n",
      "Epoch 141/200\n",
      "37/37 [==============================] - 0s 3ms/step - loss: 1.7783 - mae: 0.9995 - val_loss: 11.0909 - val_mae: 2.3869\n",
      "Epoch 142/200\n",
      "37/37 [==============================] - 0s 3ms/step - loss: 1.3399 - mae: 0.8546 - val_loss: 12.5634 - val_mae: 2.4213\n",
      "Epoch 143/200\n",
      "37/37 [==============================] - 0s 3ms/step - loss: 2.1786 - mae: 1.1218 - val_loss: 14.0564 - val_mae: 2.6818\n",
      "Epoch 144/200\n",
      "37/37 [==============================] - 0s 3ms/step - loss: 1.7363 - mae: 0.9850 - val_loss: 12.7313 - val_mae: 2.6023\n",
      "Epoch 145/200\n",
      "37/37 [==============================] - 0s 3ms/step - loss: 1.4450 - mae: 0.9133 - val_loss: 14.4762 - val_mae: 2.8181\n",
      "Epoch 146/200\n",
      "37/37 [==============================] - 0s 4ms/step - loss: 1.7098 - mae: 0.9892 - val_loss: 11.5619 - val_mae: 2.4731\n",
      "Epoch 147/200\n",
      "37/37 [==============================] - 0s 4ms/step - loss: 1.7708 - mae: 1.0264 - val_loss: 12.7068 - val_mae: 2.5597\n",
      "Epoch 148/200\n",
      "37/37 [==============================] - 0s 4ms/step - loss: 1.7682 - mae: 0.9756 - val_loss: 13.1160 - val_mae: 2.4027\n",
      "Epoch 149/200\n",
      "37/37 [==============================] - 0s 3ms/step - loss: 1.8542 - mae: 0.9959 - val_loss: 13.1861 - val_mae: 2.6067\n",
      "Epoch 150/200\n",
      "37/37 [==============================] - 0s 4ms/step - loss: 1.4929 - mae: 0.9056 - val_loss: 12.2024 - val_mae: 2.4780\n",
      "Epoch 151/200\n",
      "37/37 [==============================] - 0s 3ms/step - loss: 1.3635 - mae: 0.8548 - val_loss: 13.2060 - val_mae: 2.5698\n",
      "Epoch 152/200\n",
      "37/37 [==============================] - 0s 3ms/step - loss: 1.3988 - mae: 0.8693 - val_loss: 11.5671 - val_mae: 2.3725\n",
      "Epoch 153/200\n",
      "37/37 [==============================] - 0s 3ms/step - loss: 1.2215 - mae: 0.7838 - val_loss: 11.9289 - val_mae: 2.3925\n",
      "Epoch 154/200\n",
      "37/37 [==============================] - 0s 3ms/step - loss: 1.3169 - mae: 0.8386 - val_loss: 11.6342 - val_mae: 2.3969\n",
      "Epoch 155/200\n",
      "37/37 [==============================] - 0s 3ms/step - loss: 1.1509 - mae: 0.8030 - val_loss: 12.5076 - val_mae: 2.5072\n",
      "Epoch 156/200\n",
      "37/37 [==============================] - 0s 3ms/step - loss: 1.3121 - mae: 0.8566 - val_loss: 11.1865 - val_mae: 2.3048\n",
      "Epoch 157/200\n",
      "37/37 [==============================] - 0s 3ms/step - loss: 1.3063 - mae: 0.8564 - val_loss: 11.3123 - val_mae: 2.4335\n",
      "Epoch 158/200\n",
      "37/37 [==============================] - 0s 3ms/step - loss: 1.4695 - mae: 0.8960 - val_loss: 11.8187 - val_mae: 2.3803\n",
      "Epoch 159/200\n",
      "37/37 [==============================] - 0s 3ms/step - loss: 1.1111 - mae: 0.7559 - val_loss: 12.0523 - val_mae: 2.3940\n",
      "Epoch 160/200\n",
      "37/37 [==============================] - 0s 3ms/step - loss: 1.4219 - mae: 0.8987 - val_loss: 12.1069 - val_mae: 2.4099\n",
      "Epoch 161/200\n",
      "37/37 [==============================] - 0s 3ms/step - loss: 1.3899 - mae: 0.8762 - val_loss: 12.5012 - val_mae: 2.4864\n",
      "Epoch 162/200\n",
      "37/37 [==============================] - 0s 3ms/step - loss: 1.5819 - mae: 0.9408 - val_loss: 12.6101 - val_mae: 2.4606\n",
      "Epoch 163/200\n",
      "37/37 [==============================] - 0s 3ms/step - loss: 1.2941 - mae: 0.8531 - val_loss: 12.3670 - val_mae: 2.4393\n",
      "Epoch 164/200\n",
      "37/37 [==============================] - 0s 3ms/step - loss: 1.1383 - mae: 0.7847 - val_loss: 12.0550 - val_mae: 2.4482\n",
      "Epoch 165/200\n",
      "37/37 [==============================] - 0s 3ms/step - loss: 1.2662 - mae: 0.8289 - val_loss: 14.7515 - val_mae: 2.7869\n",
      "Epoch 166/200\n",
      "37/37 [==============================] - 0s 3ms/step - loss: 1.3941 - mae: 0.8984 - val_loss: 13.3243 - val_mae: 2.6238\n",
      "Epoch 167/200\n",
      "37/37 [==============================] - 0s 3ms/step - loss: 1.3449 - mae: 0.8735 - val_loss: 12.0483 - val_mae: 2.3274\n",
      "Epoch 168/200\n",
      "37/37 [==============================] - 0s 3ms/step - loss: 1.3229 - mae: 0.8562 - val_loss: 11.5226 - val_mae: 2.3256\n",
      "Epoch 169/200\n",
      "37/37 [==============================] - 0s 3ms/step - loss: 1.3637 - mae: 0.8890 - val_loss: 12.0603 - val_mae: 2.3810\n",
      "Epoch 170/200\n",
      "37/37 [==============================] - 0s 3ms/step - loss: 1.9976 - mae: 1.0518 - val_loss: 12.7605 - val_mae: 2.5293\n",
      "Epoch 171/200\n",
      "37/37 [==============================] - 0s 3ms/step - loss: 2.3919 - mae: 1.1423 - val_loss: 12.8550 - val_mae: 2.5121\n",
      "Epoch 172/200\n",
      "37/37 [==============================] - 0s 3ms/step - loss: 1.5271 - mae: 0.9321 - val_loss: 12.2815 - val_mae: 2.4428\n",
      "Epoch 173/200\n",
      "37/37 [==============================] - 0s 3ms/step - loss: 1.1757 - mae: 0.8105 - val_loss: 11.5059 - val_mae: 2.4053\n",
      "Epoch 174/200\n",
      "37/37 [==============================] - 0s 3ms/step - loss: 1.4071 - mae: 0.9037 - val_loss: 11.0061 - val_mae: 2.2593\n",
      "Epoch 175/200\n",
      "37/37 [==============================] - 0s 3ms/step - loss: 1.5795 - mae: 0.9552 - val_loss: 13.0660 - val_mae: 2.6784\n",
      "Epoch 176/200\n",
      "37/37 [==============================] - 0s 3ms/step - loss: 1.1964 - mae: 0.8132 - val_loss: 12.9884 - val_mae: 2.5194\n",
      "Epoch 177/200\n",
      "37/37 [==============================] - 0s 3ms/step - loss: 1.1650 - mae: 0.8048 - val_loss: 12.4497 - val_mae: 2.5720\n",
      "Epoch 178/200\n",
      "37/37 [==============================] - 0s 3ms/step - loss: 1.1420 - mae: 0.7875 - val_loss: 12.1247 - val_mae: 2.5645\n",
      "Epoch 179/200\n",
      "37/37 [==============================] - 0s 3ms/step - loss: 1.1551 - mae: 0.7863 - val_loss: 12.6639 - val_mae: 2.5680\n",
      "Epoch 180/200\n",
      "37/37 [==============================] - 0s 3ms/step - loss: 1.0392 - mae: 0.7260 - val_loss: 12.2969 - val_mae: 2.4841\n",
      "Epoch 181/200\n",
      "37/37 [==============================] - 0s 3ms/step - loss: 1.0586 - mae: 0.7573 - val_loss: 12.0480 - val_mae: 2.4478\n",
      "Epoch 182/200\n",
      "37/37 [==============================] - 0s 3ms/step - loss: 1.2710 - mae: 0.8485 - val_loss: 10.4399 - val_mae: 2.2166\n",
      "Epoch 183/200\n",
      "37/37 [==============================] - 0s 3ms/step - loss: 1.3898 - mae: 0.8844 - val_loss: 11.4450 - val_mae: 2.4002\n",
      "Epoch 184/200\n",
      "37/37 [==============================] - 0s 3ms/step - loss: 1.1246 - mae: 0.7679 - val_loss: 11.6079 - val_mae: 2.3795\n",
      "Epoch 185/200\n",
      "37/37 [==============================] - 0s 3ms/step - loss: 1.0345 - mae: 0.7507 - val_loss: 12.4387 - val_mae: 2.4746\n",
      "Epoch 186/200\n",
      "37/37 [==============================] - 0s 3ms/step - loss: 1.0262 - mae: 0.7456 - val_loss: 11.6622 - val_mae: 2.3912\n",
      "Epoch 187/200\n",
      "37/37 [==============================] - 0s 3ms/step - loss: 1.4023 - mae: 0.8853 - val_loss: 13.1647 - val_mae: 2.6358\n",
      "Epoch 188/200\n",
      "37/37 [==============================] - 0s 3ms/step - loss: 1.4291 - mae: 0.8978 - val_loss: 11.3951 - val_mae: 2.3948\n",
      "Epoch 189/200\n",
      "37/37 [==============================] - 0s 3ms/step - loss: 1.2675 - mae: 0.8236 - val_loss: 12.4833 - val_mae: 2.2752\n",
      "Epoch 190/200\n",
      "37/37 [==============================] - 0s 3ms/step - loss: 1.1981 - mae: 0.8062 - val_loss: 10.9406 - val_mae: 2.3978\n",
      "Epoch 191/200\n",
      "37/37 [==============================] - 0s 3ms/step - loss: 1.1194 - mae: 0.7860 - val_loss: 10.8506 - val_mae: 2.3162\n",
      "Epoch 192/200\n",
      "37/37 [==============================] - 0s 3ms/step - loss: 1.0246 - mae: 0.7219 - val_loss: 12.6472 - val_mae: 2.5647\n",
      "Epoch 193/200\n",
      "37/37 [==============================] - 0s 3ms/step - loss: 1.2000 - mae: 0.8044 - val_loss: 11.6187 - val_mae: 2.4447\n",
      "Epoch 194/200\n",
      "37/37 [==============================] - 0s 3ms/step - loss: 1.0573 - mae: 0.7550 - val_loss: 12.8932 - val_mae: 2.6373\n",
      "Epoch 195/200\n",
      "37/37 [==============================] - 0s 3ms/step - loss: 1.1219 - mae: 0.7901 - val_loss: 11.3089 - val_mae: 2.4298\n",
      "Epoch 196/200\n",
      "37/37 [==============================] - 0s 3ms/step - loss: 0.9764 - mae: 0.7103 - val_loss: 12.4794 - val_mae: 2.4841\n",
      "Epoch 197/200\n",
      "37/37 [==============================] - 0s 3ms/step - loss: 1.0688 - mae: 0.7587 - val_loss: 12.6756 - val_mae: 2.5716\n",
      "Epoch 198/200\n",
      "37/37 [==============================] - 0s 3ms/step - loss: 1.0873 - mae: 0.7749 - val_loss: 12.3513 - val_mae: 2.5513\n",
      "Epoch 199/200\n",
      "37/37 [==============================] - 0s 3ms/step - loss: 1.1113 - mae: 0.7822 - val_loss: 12.0051 - val_mae: 2.4174\n",
      "Epoch 200/200\n",
      "37/37 [==============================] - 0s 4ms/step - loss: 1.1325 - mae: 0.8067 - val_loss: 12.7557 - val_mae: 2.4002\n"
     ]
    }
   ],
   "source": [
    "# Fitting and saving the model\n",
    "history = model.fit(X_train_scaled, Y_train, validation_split=0.1, epochs=200, batch_size=10)\n",
    "\n",
    "#history = model.fit(X_train_scaled, Y_train, validation_split=0.2, epochs=100)\n",
    "#history = model.fit(X_train_scaled, Y_train, validation_split=0.2, epochs=200, verbose=0, batch_size=10,callbacks=[keras.callbacks.EarlyStopping(monitor='val_loss', patience=20)])"
   ]
  },
  {
   "cell_type": "code",
   "execution_count": 29,
   "metadata": {},
   "outputs": [
    {
     "data": {
      "text/plain": [
       "(0.0, 10.0)"
      ]
     },
     "execution_count": 29,
     "metadata": {},
     "output_type": "execute_result"
    },
    {
     "data": {
      "image/png": "[encoded data removed]",
      "text/plain": [
       "<Figure size 432x288 with 1 Axes>"
      ]
     },
     "metadata": {
      "needs_background": "light"
     },
     "output_type": "display_data"
    }
   ],
   "source": [
    "# plotting the model training process\n",
    "plt.figure()\n",
    "plt.xlabel('Epoch')\n",
    "plt.ylabel('Mean Absolute Error - 1000$')\n",
    "plt.plot(history.epoch, np.array(history.history['mae']),\n",
    "        label= 'Train loss')\n",
    "plt.plot(history.epoch, np.array(history.history['val_mae']),\n",
    "           label = 'Val loss')\n",
    "plt.legend()\n",
    "\n",
    "plt.ylim([0,10])"
   ]
  },
  {
   "cell_type": "code",
   "execution_count": 30,
   "metadata": {
    "scrolled": true
   },
   "outputs": [
    {
     "name": "stdout",
     "output_type": "stream",
     "text": [
      "4/4 [==============================] - 0s 4ms/step - loss: 12.8910 - mae: 2.3311\n",
      "loss = 12.890962600708008\n",
      "mean absolute error = 2.3311026096343994\n"
     ]
    }
   ],
   "source": [
    "# evaluate the keras model\n",
    "[loss, mae] = model.evaluate(X_test_scaled, Y_test)\n",
    "print('loss = {}'.format(loss)) \n",
    "print('mean absolute error = {}'.format(mae))"
   ]
  },
  {
   "cell_type": "markdown",
   "metadata": {},
   "source": [
    "#### Model prediction"
   ]
  },
  {
   "cell_type": "code",
   "execution_count": 31,
   "metadata": {},
   "outputs": [],
   "source": [
    "# prediction on test \n",
    "to_predict = X_test_scaled\n",
    "test_prediction = model.predict(to_predict).flatten()\n",
    "\n",
    "\n",
    "#for i in range(len(to_predict)):\n",
    "#    print('%s => (expected %d)' % ( pred[i], Y_train[i]))"
   ]
  },
  {
   "cell_type": "code",
   "execution_count": 32,
   "metadata": {},
   "outputs": [
    {
     "data": {
      "image/png": "[encoded data removed]",
      "text/plain": [
       "<Figure size 432x288 with 1 Axes>"
      ]
     },
     "metadata": {
      "needs_background": "light"
     },
     "output_type": "display_data"
    }
   ],
   "source": [
    "\n",
    "plt.scatter(Y_test, test_prediction)\n",
    "plt.title('Comparison of the real and predicted value')\n",
    "plt.xlabel('Real Values')\n",
    "plt.ylabel('Predicted Value')\n",
    "plt.axis('equal')\n",
    "plt.xlim(plt.xlim())\n",
    "plt.ylim(plt.ylim())\n",
    "_ = plt.plot([-100, 100],[-100,100])\n"
   ]
  },
  {
   "cell_type": "code",
   "execution_count": 33,
   "metadata": {},
   "outputs": [
    {
     "data": {
      "image/png": "[encoded data removed]",
      "text/plain": [
       "<Figure size 432x288 with 1 Axes>"
      ]
     },
     "metadata": {
      "needs_background": "light"
     },
     "output_type": "display_data"
    }
   ],
   "source": [
    "#plot the prediction errors\n",
    "error = test_prediction - Y_test\n",
    "plt.hist(error, bins = 50)\n",
    "plt.xlabel(\"Prediction Error [1000$]\")\n",
    "_ = plt.ylabel(\"Count\")"
   ]
  },
  {
   "cell_type": "code",
   "execution_count": null,
   "metadata": {},
   "outputs": [],
   "source": []
  },
  {
   "cell_type": "code",
   "execution_count": null,
   "metadata": {},
   "outputs": [],
   "source": []
  }
 ],
 "metadata": {
  "kernelspec": {
   "display_name": "Python 3",
   "language": "python",
   "name": "python3"
  },
  "language_info": {
   "codemirror_mode": {
    "name": "ipython",
    "version": 3
   },
   "file_extension": ".py",
   "mimetype": "text/x-python",
   "name": "python",
   "nbconvert_exporter": "python",
   "pygments_lexer": "ipython3",
   "version": "3.8.5"
  }
 },
 "nbformat": 4,
 "nbformat_minor": 4
}
