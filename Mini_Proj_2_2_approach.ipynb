{
 "cells": [
  {
   "cell_type": "code",
   "execution_count": 90,
   "metadata": {},
   "outputs": [],
   "source": [
    "import pandas as pd\n",
    "import numpy as np\n",
    "np.random.seed(0)\n",
    "from sklearn.model_selection import train_test_split\n",
    "from sklearn.ensemble import RandomForestClassifier\n",
    "from sklearn import metrics"
   ]
  },
  {
   "cell_type": "code",
   "execution_count": 91,
   "metadata": {},
   "outputs": [
    {
     "name": "stdout",
     "output_type": "stream",
     "text": [
      "NO MISSING DATA\n"
     ]
    }
   ],
   "source": [
    "#Reading the csv file \n",
    "df = pd.read_csv('datasets_dataset.csv')\n",
    "\n",
    "#Checking whether we have missing data ?\n",
    "if df.isnull().sum().any() == 0:\n",
    "    print(\"NO MISSING DATA\")\n",
    "else:\n",
    "    print(\"THERE IS MISSING DATA\")"
   ]
  },
  {
   "cell_type": "code",
   "execution_count": 92,
   "metadata": {},
   "outputs": [
    {
     "name": "stdout",
     "output_type": "stream",
     "text": [
      "107 students have registered in this course.\n",
      "48 students(about 45%) of all students have been failed.\n",
      "35 students(about 73%) of failed students have been 'tourist' students without any activity.\n"
     ]
    }
   ],
   "source": [
    "##### REPORTS #####\n",
    "\n",
    "#The number of all students \n",
    "number_of_all_registered_std = len(df)\n",
    "print('{} students have registered in this course.'.format(number_of_all_registered_std) )\n",
    "\n",
    "#the number of failed students\n",
    "failed_std = df[df['Grade'] == 0]\n",
    "number_of_failed_std = len(failed_std)\n",
    "\n",
    "#the number of tourist students\n",
    "tourist_std = failed_std[failed_std['Week8_Total'] == 0]\n",
    "number_of_tourist_std = len(tourist_std)\n",
    "\n",
    "\n",
    "# Information about failed students(grade = 0) \n",
    "percentage_of_failed_std =round((number_of_failed_std * 100) / number_of_all_registered_std)\n",
    "print('{} students(about {}%) of all students have been failed.'.format(len(failed_std), percentage_of_failed_std))\n",
    "\n",
    "# Information about 'Tourist' students(grade = 0)\n",
    "percentage_of_tourist_std = round((number_of_tourist_std * 100) / number_of_failed_std)\n",
    "print('{} students(about {}%) of failed students have been \\'tourist\\' students without any activity.'.format(len(tourist_std), percentage_of_tourist_std))\n"
   ]
  },
  {
   "cell_type": "code",
   "execution_count": 93,
   "metadata": {},
   "outputs": [],
   "source": [
    "#Drop irrelevent columns\n",
    "#df.columns\n",
    "df.drop(['Week1_Stat0', 'Week1_Stat1', 'Week1_Stat2', 'Week1_Stat3', \n",
    "         'Week2_Stat0', 'Week2_Stat1', 'Week2_Stat2', 'Week2_Stat3',\n",
    "         'Week3_Stat0', 'Week3_Stat1', 'Week3_Stat2', 'Week3_Stat3',\n",
    "         'Week4_Stat0', 'Week4_Stat1', 'Week4_Stat2', 'Week4_Stat3',\n",
    "         'Week5_Stat0', 'Week5_Stat1', 'Week5_Stat2', 'Week5_Stat3',\n",
    "         'Week6_Stat0', 'Week6_Stat1', 'Week6_Stat2', 'Week6_Stat3',\n",
    "         'Week7_Stat0', 'Week7_Stat1', 'Week7_Stat2', 'Week7_Stat3',\n",
    "         'Week8_Stat0', 'Week8_Stat1', 'Week8_Stat2', 'Week8_Stat3', \n",
    "         'Week9_Stat0', 'Week9_Stat1', 'Week9_Stat2', 'Week9_Stat3', 'ID'], axis=1, inplace=True)\n",
    "\n"
   ]
  },
  {
   "cell_type": "code",
   "execution_count": 94,
   "metadata": {},
   "outputs": [],
   "source": [
    "#Droping the rows with all zero values\n",
    "df = df.loc[~(df == 0).all(axis=1)]\n"
   ]
  },
  {
   "cell_type": "code",
   "execution_count": 95,
   "metadata": {},
   "outputs": [],
   "source": [
    "#Define dependent variables\n",
    "Y = df['Grade'].values\n"
   ]
  },
  {
   "cell_type": "code",
   "execution_count": 96,
   "metadata": {},
   "outputs": [],
   "source": [
    "#Define independent variables\n",
    "X = df.drop(['Grade'], axis=1)\n"
   ]
  },
  {
   "cell_type": "code",
   "execution_count": 97,
   "metadata": {},
   "outputs": [],
   "source": [
    "#Splitting our dataset into train(75 percent) and test(25 percent)\n",
    "X_train, X_test, Y_train, Y_test = train_test_split(X, Y, test_size=.25, random_state=20)\n",
    "X_test = X_test.drop(['Week8_Total'], axis=1)\n",
    "X_train = X_train.drop(['Week8_Total'], axis=1)"
   ]
  },
  {
   "cell_type": "code",
   "execution_count": 98,
   "metadata": {},
   "outputs": [],
   "source": [
    "#Creating the model\n",
    "model = RandomForestClassifier(n_estimators=10, random_state=30)\n"
   ]
  },
  {
   "cell_type": "code",
   "execution_count": 99,
   "metadata": {},
   "outputs": [
    {
     "data": {
      "text/plain": [
       "RandomForestClassifier(n_estimators=10, random_state=30)"
      ]
     },
     "execution_count": 99,
     "metadata": {},
     "output_type": "execute_result"
    }
   ],
   "source": [
    "#Fitting the model\n",
    "model.fit(X_train, Y_train)\n"
   ]
  },
  {
   "cell_type": "code",
   "execution_count": 100,
   "metadata": {},
   "outputs": [],
   "source": [
    "#Predicting the grades based on model\n",
    "prediction_test = model.predict(X_test)\n"
   ]
  },
  {
   "cell_type": "code",
   "execution_count": 101,
   "metadata": {},
   "outputs": [],
   "source": [
    "#Calculating the accuracy\n",
    "Accuracy = metrics.accuracy_score(Y_test, prediction_test)\n"
   ]
  },
  {
   "cell_type": "code",
   "execution_count": 102,
   "metadata": {},
   "outputs": [],
   "source": [
    "\n",
    "#Finding the most important features\n",
    "feature_list = list(X.columns)[:9]\n",
    "feature_imp = pd.Series(model.feature_importances_, index=feature_list).sort_values(ascending=False)\n",
    "\n"
   ]
  },
  {
   "cell_type": "code",
   "execution_count": 103,
   "metadata": {},
   "outputs": [
    {
     "name": "stdout",
     "output_type": "stream",
     "text": [
      "Accuracy =  0.6666666666666666\n",
      "3 Most Important Features are = \n",
      " Week7_MP3      0.407404\n",
      "Week5_MP2      0.214642\n",
      "Week4_Quiz2    0.107665\n",
      "dtype: float64\n"
     ]
    }
   ],
   "source": [
    "#Printing the results\n",
    "print(\"Accuracy = \", Accuracy )\n",
    "print(\"3 Most Important Features are = \\n\", feature_imp[:3])\n"
   ]
  },
  {
   "cell_type": "code",
   "execution_count": null,
   "metadata": {},
   "outputs": [],
   "source": []
  },
  {
   "cell_type": "code",
   "execution_count": null,
   "metadata": {},
   "outputs": [],
   "source": []
  },
  {
   "cell_type": "code",
   "execution_count": null,
   "metadata": {},
   "outputs": [],
   "source": []
  }
 ],
 "metadata": {
  "kernelspec": {
   "display_name": "Python 3",
   "language": "python",
   "name": "python3"
  },
  "language_info": {
   "codemirror_mode": {
    "name": "ipython",
    "version": 3
   },
   "file_extension": ".py",
   "mimetype": "text/x-python",
   "name": "python",
   "nbconvert_exporter": "python",
   "pygments_lexer": "ipython3",
   "version": "3.8.5"
  }
 },
 "nbformat": 4,
 "nbformat_minor": 4
}
