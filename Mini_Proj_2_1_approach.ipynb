{
 "cells": [
  {
   "cell_type": "code",
   "execution_count": 109,
   "metadata": {},
   "outputs": [],
   "source": [
    "import pandas as pd\n",
    "import numpy as np\n",
    "from sklearn.model_selection import train_test_split\n",
    "from sklearn.ensemble import RandomForestClassifier\n",
    "from sklearn import metrics\n",
    "np.random.seed(0)"
   ]
  },
  {
   "cell_type": "code",
   "execution_count": 110,
   "metadata": {},
   "outputs": [
    {
     "name": "stdout",
     "output_type": "stream",
     "text": [
      "NO MISSING DATA\n"
     ]
    }
   ],
   "source": [
    "#Reading the csv file \n",
    "df = pd.read_csv('datasets_dataset.csv')\n",
    "\n",
    "#Checking whether we have missing data ?\n",
    "if df.isnull().sum().any() == 0:\n",
    "    print(\"NO MISSING DATA\")\n",
    "else:\n",
    "    print(\"THERE IS MISSING DATA\")"
   ]
  },
  {
   "cell_type": "code",
   "execution_count": 111,
   "metadata": {},
   "outputs": [
    {
     "name": "stdout",
     "output_type": "stream",
     "text": [
      "107 students have registered in this course.\n",
      "48 students(about 45%) of all students have been failed.\n",
      "35 students(about 73%) of failed students have been 'tourist' students without any activity.\n"
     ]
    }
   ],
   "source": [
    "##### REPORTS #####\n",
    "\n",
    "#The number of all students \n",
    "number_of_all_registered_std = len(df)\n",
    "print('{} students have registered in this course.'.format(number_of_all_registered_std) )\n",
    "\n",
    "#the number of failed students\n",
    "failed_std = df[df['Grade'] == 0]\n",
    "number_of_failed_std = len(failed_std)\n",
    "\n",
    "#the number of tourist students\n",
    "tourist_std = failed_std[failed_std['Week8_Total'] == 0]\n",
    "number_of_tourist_std = len(tourist_std)\n",
    "\n",
    "\n",
    "# Information about failed students(grade = 0) \n",
    "percentage_of_failed_std =round((number_of_failed_std * 100) / number_of_all_registered_std)\n",
    "print('{} students(about {}%) of all students have been failed.'.format(len(failed_std), percentage_of_failed_std))\n",
    "\n",
    "# Information about 'Tourist' students(grade = 0)\n",
    "percentage_of_tourist_std = round((number_of_tourist_std * 100) / number_of_failed_std)\n",
    "print('{} students(about {}%) of failed students have been \\'tourist\\' students without any activity.'.format(len(tourist_std), percentage_of_tourist_std))\n"
   ]
  },
  {
   "cell_type": "code",
   "execution_count": 112,
   "metadata": {},
   "outputs": [],
   "source": [
    "#Drop irrelevent columns\n",
    "\n",
    "df.drop(['Week1_Stat0', 'Week1_Stat1', 'Week1_Stat2', 'Week1_Stat3', \n",
    "         'Week2_Stat0', 'Week2_Stat1', 'Week2_Stat2', 'Week2_Stat3',\n",
    "         'Week3_Stat0', 'Week3_Stat1', 'Week3_Stat2', 'Week3_Stat3',\n",
    "         'Week4_Stat0', 'Week4_Stat1', 'Week4_Stat2', 'Week4_Stat3',\n",
    "         'Week5_Stat0', 'Week5_Stat1', 'Week5_Stat2', 'Week5_Stat3',\n",
    "         'Week6_Stat0', 'Week6_Stat1', 'Week6_Stat2', 'Week6_Stat3',\n",
    "         'Week7_Stat0', 'Week7_Stat1', 'Week7_Stat2', 'Week7_Stat3',\n",
    "         'Week8_Stat0', 'Week8_Stat1', 'Week8_Stat2', 'Week8_Stat3', \n",
    "         'Week9_Stat0', 'Week9_Stat1', 'Week9_Stat2', 'Week9_Stat3', 'ID'], axis=1, inplace=True)\n",
    "#df.columns"
   ]
  },
  {
   "cell_type": "code",
   "execution_count": 113,
   "metadata": {},
   "outputs": [
    {
     "data": {
      "text/html": [
       "<div>\n",
       "<style scoped>\n",
       "    .dataframe tbody tr th:only-of-type {\n",
       "        vertical-align: middle;\n",
       "    }\n",
       "\n",
       "    .dataframe tbody tr th {\n",
       "        vertical-align: top;\n",
       "    }\n",
       "\n",
       "    .dataframe thead th {\n",
       "        text-align: right;\n",
       "    }\n",
       "</style>\n",
       "<table border=\"1\" class=\"dataframe\">\n",
       "  <thead>\n",
       "    <tr style=\"text-align: right;\">\n",
       "      <th></th>\n",
       "      <th>Week2_Quiz1</th>\n",
       "      <th>Week3_MP1</th>\n",
       "      <th>Week3_PR1</th>\n",
       "      <th>Week5_MP2</th>\n",
       "      <th>Week5_PR2</th>\n",
       "      <th>Week7_MP3</th>\n",
       "      <th>Week7_PR3</th>\n",
       "      <th>Week4_Quiz2</th>\n",
       "      <th>Week6_Quiz3</th>\n",
       "      <th>Week8_Total</th>\n",
       "      <th>Grade</th>\n",
       "    </tr>\n",
       "  </thead>\n",
       "  <tbody>\n",
       "    <tr>\n",
       "      <th>0</th>\n",
       "      <td>5.00</td>\n",
       "      <td>15.0</td>\n",
       "      <td>5.0</td>\n",
       "      <td>16.09</td>\n",
       "      <td>5.00</td>\n",
       "      <td>21.88</td>\n",
       "      <td>5.0</td>\n",
       "      <td>5.00</td>\n",
       "      <td>5.0</td>\n",
       "      <td>82.97</td>\n",
       "      <td>4</td>\n",
       "    </tr>\n",
       "    <tr>\n",
       "      <th>1</th>\n",
       "      <td>3.33</td>\n",
       "      <td>15.0</td>\n",
       "      <td>5.0</td>\n",
       "      <td>17.83</td>\n",
       "      <td>5.00</td>\n",
       "      <td>22.27</td>\n",
       "      <td>5.0</td>\n",
       "      <td>4.00</td>\n",
       "      <td>5.0</td>\n",
       "      <td>82.43</td>\n",
       "      <td>4</td>\n",
       "    </tr>\n",
       "    <tr>\n",
       "      <th>2</th>\n",
       "      <td>1.67</td>\n",
       "      <td>13.0</td>\n",
       "      <td>5.0</td>\n",
       "      <td>15.22</td>\n",
       "      <td>5.00</td>\n",
       "      <td>27.05</td>\n",
       "      <td>2.5</td>\n",
       "      <td>5.00</td>\n",
       "      <td>5.0</td>\n",
       "      <td>79.44</td>\n",
       "      <td>3</td>\n",
       "    </tr>\n",
       "    <tr>\n",
       "      <th>3</th>\n",
       "      <td>2.50</td>\n",
       "      <td>14.0</td>\n",
       "      <td>5.0</td>\n",
       "      <td>10.00</td>\n",
       "      <td>5.00</td>\n",
       "      <td>31.02</td>\n",
       "      <td>5.0</td>\n",
       "      <td>3.13</td>\n",
       "      <td>5.0</td>\n",
       "      <td>80.65</td>\n",
       "      <td>3</td>\n",
       "    </tr>\n",
       "    <tr>\n",
       "      <th>4</th>\n",
       "      <td>0.00</td>\n",
       "      <td>15.0</td>\n",
       "      <td>5.0</td>\n",
       "      <td>12.17</td>\n",
       "      <td>4.93</td>\n",
       "      <td>15.91</td>\n",
       "      <td>5.0</td>\n",
       "      <td>4.67</td>\n",
       "      <td>5.0</td>\n",
       "      <td>67.68</td>\n",
       "      <td>2</td>\n",
       "    </tr>\n",
       "    <tr>\n",
       "      <th>...</th>\n",
       "      <td>...</td>\n",
       "      <td>...</td>\n",
       "      <td>...</td>\n",
       "      <td>...</td>\n",
       "      <td>...</td>\n",
       "      <td>...</td>\n",
       "      <td>...</td>\n",
       "      <td>...</td>\n",
       "      <td>...</td>\n",
       "      <td>...</td>\n",
       "      <td>...</td>\n",
       "    </tr>\n",
       "    <tr>\n",
       "      <th>72</th>\n",
       "      <td>4.17</td>\n",
       "      <td>15.0</td>\n",
       "      <td>5.0</td>\n",
       "      <td>18.26</td>\n",
       "      <td>5.00</td>\n",
       "      <td>24.66</td>\n",
       "      <td>5.0</td>\n",
       "      <td>4.25</td>\n",
       "      <td>5.0</td>\n",
       "      <td>86.34</td>\n",
       "      <td>4</td>\n",
       "    </tr>\n",
       "    <tr>\n",
       "      <th>73</th>\n",
       "      <td>2.50</td>\n",
       "      <td>14.0</td>\n",
       "      <td>5.0</td>\n",
       "      <td>18.26</td>\n",
       "      <td>5.00</td>\n",
       "      <td>28.64</td>\n",
       "      <td>0.0</td>\n",
       "      <td>3.00</td>\n",
       "      <td>5.0</td>\n",
       "      <td>81.40</td>\n",
       "      <td>4</td>\n",
       "    </tr>\n",
       "    <tr>\n",
       "      <th>74</th>\n",
       "      <td>5.00</td>\n",
       "      <td>15.0</td>\n",
       "      <td>5.0</td>\n",
       "      <td>19.57</td>\n",
       "      <td>5.00</td>\n",
       "      <td>34.60</td>\n",
       "      <td>5.0</td>\n",
       "      <td>5.00</td>\n",
       "      <td>5.0</td>\n",
       "      <td>99.17</td>\n",
       "      <td>5</td>\n",
       "    </tr>\n",
       "    <tr>\n",
       "      <th>75</th>\n",
       "      <td>4.17</td>\n",
       "      <td>11.0</td>\n",
       "      <td>5.0</td>\n",
       "      <td>18.26</td>\n",
       "      <td>4.90</td>\n",
       "      <td>31.02</td>\n",
       "      <td>5.0</td>\n",
       "      <td>5.00</td>\n",
       "      <td>4.5</td>\n",
       "      <td>88.85</td>\n",
       "      <td>4</td>\n",
       "    </tr>\n",
       "    <tr>\n",
       "      <th>76</th>\n",
       "      <td>5.00</td>\n",
       "      <td>15.0</td>\n",
       "      <td>5.0</td>\n",
       "      <td>17.83</td>\n",
       "      <td>5.00</td>\n",
       "      <td>28.24</td>\n",
       "      <td>5.0</td>\n",
       "      <td>4.17</td>\n",
       "      <td>5.0</td>\n",
       "      <td>90.24</td>\n",
       "      <td>4</td>\n",
       "    </tr>\n",
       "  </tbody>\n",
       "</table>\n",
       "<p>72 rows × 11 columns</p>\n",
       "</div>"
      ],
      "text/plain": [
       "    Week2_Quiz1  Week3_MP1  Week3_PR1  Week5_MP2  Week5_PR2  Week7_MP3  \\\n",
       "0          5.00       15.0        5.0      16.09       5.00      21.88   \n",
       "1          3.33       15.0        5.0      17.83       5.00      22.27   \n",
       "2          1.67       13.0        5.0      15.22       5.00      27.05   \n",
       "3          2.50       14.0        5.0      10.00       5.00      31.02   \n",
       "4          0.00       15.0        5.0      12.17       4.93      15.91   \n",
       "..          ...        ...        ...        ...        ...        ...   \n",
       "72         4.17       15.0        5.0      18.26       5.00      24.66   \n",
       "73         2.50       14.0        5.0      18.26       5.00      28.64   \n",
       "74         5.00       15.0        5.0      19.57       5.00      34.60   \n",
       "75         4.17       11.0        5.0      18.26       4.90      31.02   \n",
       "76         5.00       15.0        5.0      17.83       5.00      28.24   \n",
       "\n",
       "    Week7_PR3  Week4_Quiz2  Week6_Quiz3  Week8_Total  Grade  \n",
       "0         5.0         5.00          5.0        82.97      4  \n",
       "1         5.0         4.00          5.0        82.43      4  \n",
       "2         2.5         5.00          5.0        79.44      3  \n",
       "3         5.0         3.13          5.0        80.65      3  \n",
       "4         5.0         4.67          5.0        67.68      2  \n",
       "..        ...          ...          ...          ...    ...  \n",
       "72        5.0         4.25          5.0        86.34      4  \n",
       "73        0.0         3.00          5.0        81.40      4  \n",
       "74        5.0         5.00          5.0        99.17      5  \n",
       "75        5.0         5.00          4.5        88.85      4  \n",
       "76        5.0         4.17          5.0        90.24      4  \n",
       "\n",
       "[72 rows x 11 columns]"
      ]
     },
     "execution_count": 113,
     "metadata": {},
     "output_type": "execute_result"
    }
   ],
   "source": [
    "#Droping the rows with all zero values\n",
    "df = df.loc[~(df == 0).all(axis=1)]\n",
    "\n",
    "# the number of non zero rows\n",
    "#nonzero_rows = df.shape[0]\n",
    "df"
   ]
  },
  {
   "cell_type": "code",
   "execution_count": 114,
   "metadata": {},
   "outputs": [
    {
     "data": {
      "text/plain": [
       "Index(['Week2_Quiz1', 'Week3_MP1', 'Week3_PR1', 'Week5_MP2', 'Week5_PR2',\n",
       "       'Week7_MP3', 'Week7_PR3', 'Week4_Quiz2', 'Week6_Quiz3'],\n",
       "      dtype='object')"
      ]
     },
     "execution_count": 114,
     "metadata": {},
     "output_type": "execute_result"
    }
   ],
   "source": [
    "# A list of the features columns names\n",
    "features = df.columns[:9]\n",
    "#feature = list(train[features].columns)\n",
    "features"
   ]
  },
  {
   "cell_type": "code",
   "execution_count": 115,
   "metadata": {},
   "outputs": [],
   "source": [
    "# Creating a new column that generate a random number between 0 and 1\n",
    "## if that vale is less than or equal to 0.75, then sets the value of that cell as True(this is training set) \n",
    "### and False otherwise(this is test set)\n",
    "df['is_train'] = np.random.uniform(0, 1, len(df)) <= .75"
   ]
  },
  {
   "cell_type": "code",
   "execution_count": 116,
   "metadata": {},
   "outputs": [],
   "source": [
    "# Creating 2 new dataframes, one with training rows, one with the test rows\n",
    "train, test = df[df['is_train']==True], df[df['is_train']==False]"
   ]
  },
  {
   "cell_type": "code",
   "execution_count": 117,
   "metadata": {},
   "outputs": [],
   "source": [
    "# Creating training set \n",
    "X_train = train[features]\n",
    "Y_train = train['Grade']"
   ]
  },
  {
   "cell_type": "code",
   "execution_count": 118,
   "metadata": {},
   "outputs": [],
   "source": [
    "# Creating test set\n",
    "X_test = test[features]\n",
    "Y_test = test['Grade']"
   ]
  },
  {
   "cell_type": "code",
   "execution_count": 119,
   "metadata": {},
   "outputs": [],
   "source": [
    "#random forest classifier \n",
    "clf = RandomForestClassifier(n_jobs=2, random_state=0)"
   ]
  },
  {
   "cell_type": "code",
   "execution_count": 120,
   "metadata": {},
   "outputs": [],
   "source": [
    "# Train the Classifier to take the training features and learn how they relate to the training y\n",
    "model = clf.fit(X_train , Y_train)"
   ]
  },
  {
   "cell_type": "code",
   "execution_count": 121,
   "metadata": {},
   "outputs": [],
   "source": [
    "#Applying the clasifier we trained to the test data(never seen before)\n",
    "prediction = model.predict(X_test)"
   ]
  },
  {
   "cell_type": "code",
   "execution_count": 122,
   "metadata": {},
   "outputs": [],
   "source": [
    "#Y_train = pd.factorize(train['Grade'])[0]"
   ]
  },
  {
   "cell_type": "code",
   "execution_count": 123,
   "metadata": {},
   "outputs": [
    {
     "data": {
      "text/plain": [
       "array([[0.02, 0.04, 0.1 , 0.52, 0.32],\n",
       "       [0.  , 0.22, 0.53, 0.2 , 0.05],\n",
       "       [0.  , 0.  , 0.08, 0.14, 0.78],\n",
       "       [0.  , 0.  , 0.08, 0.37, 0.55],\n",
       "       [0.64, 0.11, 0.2 , 0.04, 0.01],\n",
       "       [1.  , 0.  , 0.  , 0.  , 0.  ],\n",
       "       [0.06, 0.06, 0.7 , 0.04, 0.14],\n",
       "       [0.  , 0.1 , 0.61, 0.23, 0.06],\n",
       "       [0.  , 0.03, 0.23, 0.62, 0.12],\n",
       "       [0.24, 0.04, 0.61, 0.1 , 0.01]])"
      ]
     },
     "execution_count": 123,
     "metadata": {},
     "output_type": "execute_result"
    }
   ],
   "source": [
    "# viewing the predicted probabilities of the first 10 observations\n",
    "clf.predict_proba(test[features])[:10]"
   ]
  },
  {
   "cell_type": "code",
   "execution_count": 124,
   "metadata": {},
   "outputs": [
    {
     "data": {
      "text/html": [
       "<div>\n",
       "<style scoped>\n",
       "    .dataframe tbody tr th:only-of-type {\n",
       "        vertical-align: middle;\n",
       "    }\n",
       "\n",
       "    .dataframe tbody tr th {\n",
       "        vertical-align: top;\n",
       "    }\n",
       "\n",
       "    .dataframe thead th {\n",
       "        text-align: right;\n",
       "    }\n",
       "</style>\n",
       "<table border=\"1\" class=\"dataframe\">\n",
       "  <thead>\n",
       "    <tr style=\"text-align: right;\">\n",
       "      <th>Predicted Grades</th>\n",
       "      <th>0</th>\n",
       "      <th>3</th>\n",
       "      <th>4</th>\n",
       "      <th>5</th>\n",
       "    </tr>\n",
       "    <tr>\n",
       "      <th>Actual Grades</th>\n",
       "      <th></th>\n",
       "      <th></th>\n",
       "      <th></th>\n",
       "      <th></th>\n",
       "    </tr>\n",
       "  </thead>\n",
       "  <tbody>\n",
       "    <tr>\n",
       "      <th>0</th>\n",
       "      <td>4</td>\n",
       "      <td>0</td>\n",
       "      <td>0</td>\n",
       "      <td>0</td>\n",
       "    </tr>\n",
       "    <tr>\n",
       "      <th>2</th>\n",
       "      <td>0</td>\n",
       "      <td>1</td>\n",
       "      <td>0</td>\n",
       "      <td>0</td>\n",
       "    </tr>\n",
       "    <tr>\n",
       "      <th>3</th>\n",
       "      <td>0</td>\n",
       "      <td>3</td>\n",
       "      <td>0</td>\n",
       "      <td>0</td>\n",
       "    </tr>\n",
       "    <tr>\n",
       "      <th>4</th>\n",
       "      <td>0</td>\n",
       "      <td>2</td>\n",
       "      <td>3</td>\n",
       "      <td>0</td>\n",
       "    </tr>\n",
       "    <tr>\n",
       "      <th>5</th>\n",
       "      <td>0</td>\n",
       "      <td>0</td>\n",
       "      <td>0</td>\n",
       "      <td>4</td>\n",
       "    </tr>\n",
       "  </tbody>\n",
       "</table>\n",
       "</div>"
      ],
      "text/plain": [
       "Predicted Grades  0  3  4  5\n",
       "Actual Grades               \n",
       "0                 4  0  0  0\n",
       "2                 0  1  0  0\n",
       "3                 0  3  0  0\n",
       "4                 0  2  3  0\n",
       "5                 0  0  0  4"
      ]
     },
     "execution_count": 124,
     "metadata": {},
     "output_type": "execute_result"
    }
   ],
   "source": [
    "pd.crosstab(Y_test, prediction, rownames=['Actual Grades'], colnames=['Predicted Grades'])"
   ]
  },
  {
   "cell_type": "code",
   "execution_count": 125,
   "metadata": {},
   "outputs": [
    {
     "data": {
      "text/plain": [
       "[('Week2_Quiz1', 0.06130661660852681),\n",
       " ('Week3_MP1', 0.14707976144676863),\n",
       " ('Week3_PR1', 0.026771000407506754),\n",
       " ('Week5_MP2', 0.2181015106426134),\n",
       " ('Week5_PR2', 0.031097760386755286),\n",
       " ('Week7_MP3', 0.31949469415232423),\n",
       " ('Week7_PR3', 0.040793030657896245),\n",
       " ('Week4_Quiz2', 0.10052088893139616),\n",
       " ('Week6_Quiz3', 0.054834736766212526)]"
      ]
     },
     "execution_count": 125,
     "metadata": {},
     "output_type": "execute_result"
    }
   ],
   "source": [
    "#View a list of the features and their importance scores\n",
    "list(zip(X_train, clf.feature_importances_))"
   ]
  },
  {
   "cell_type": "code",
   "execution_count": 126,
   "metadata": {},
   "outputs": [],
   "source": [
    "# Calculating accuracy of the prediction\n",
    "Accuracy = metrics.accuracy_score(Y_test, prediction)"
   ]
  },
  {
   "cell_type": "code",
   "execution_count": 127,
   "metadata": {},
   "outputs": [],
   "source": [
    "# The highly effective features in the prediction\n",
    "feature_imp = pd.Series(model.feature_importances_, index=features).sort_values(ascending=False)"
   ]
  },
  {
   "cell_type": "code",
   "execution_count": 128,
   "metadata": {
    "scrolled": true
   },
   "outputs": [
    {
     "name": "stdout",
     "output_type": "stream",
     "text": [
      "Accuracy =  0.8235294117647058\n",
      "The 3 most important features are = \n",
      "Week7_MP3    0.319495\n",
      "Week5_MP2    0.218102\n",
      "Week3_MP1    0.147080\n",
      "dtype: float64\n"
     ]
    }
   ],
   "source": [
    "# printting the results \n",
    "print(\"Accuracy = \", Accuracy)\n",
    "print(\"The 3 most important features are = \\n{}\".format(feature_imp[ :3]))"
   ]
  },
  {
   "cell_type": "code",
   "execution_count": null,
   "metadata": {},
   "outputs": [],
   "source": []
  },
  {
   "cell_type": "code",
   "execution_count": null,
   "metadata": {},
   "outputs": [],
   "source": []
  }
 ],
 "metadata": {
  "kernelspec": {
   "display_name": "Python 3",
   "language": "python",
   "name": "python3"
  },
  "language_info": {
   "codemirror_mode": {
    "name": "ipython",
    "version": 3
   },
   "file_extension": ".py",
   "mimetype": "text/x-python",
   "name": "python",
   "nbconvert_exporter": "python",
   "pygments_lexer": "ipython3",
   "version": "3.8.5"
  }
 },
 "nbformat": 4,
 "nbformat_minor": 4
}
